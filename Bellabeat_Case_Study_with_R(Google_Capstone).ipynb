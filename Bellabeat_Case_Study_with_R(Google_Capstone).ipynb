{
  "metadata": {
    "kernelspec": {
      "name": "ir",
      "display_name": "R",
      "language": "R"
    },
    "language_info": {
      "name": "R",
      "codemirror_mode": "r",
      "pygments_lexer": "r",
      "mimetype": "text/x-r-source",
      "file_extension": ".r",
      "version": "4.4.0"
    },
    "kaggle": {
      "accelerator": "none",
      "dataSources": [
        {
          "sourceId": 7746251,
          "sourceType": "datasetVersion",
          "datasetId": 1041311
        }
      ],
      "dockerImageVersionId": 30749,
      "isInternetEnabled": true,
      "language": "r",
      "sourceType": "notebook",
      "isGpuEnabled": false
    },
    "colab": {
      "name": "Bellabeat Case Study with R(Google Capstone)",
      "provenance": [],
      "include_colab_link": true
    }
  },
  "nbformat_minor": 0,
  "nbformat": 4,
  "cells": [
    {
      "cell_type": "markdown",
      "metadata": {
        "id": "view-in-github",
        "colab_type": "text"
      },
      "source": [
        "<a href=\"https://colab.research.google.com/github/IshanSrivastav/GOOGLE_DATA_ANALYTICS/blob/main/Bellabeat_Case_Study_with_R(Google_Capstone).ipynb\" target=\"_parent\"><img src=\"https://colab.research.google.com/assets/colab-badge.svg\" alt=\"Open In Colab\"/></a>"
      ]
    },
    {
      "source": [
        "\n",
        "# IMPORTANT: RUN THIS CELL IN ORDER TO IMPORT YOUR KAGGLE DATA SOURCES\n",
        "# TO THE CORRECT LOCATION (/kaggle/input) IN YOUR NOTEBOOK,\n",
        "# THEN FEEL FREE TO DELETE THIS CELL.\n",
        "# NOTE: THIS NOTEBOOK ENVIRONMENT DIFFERS FROM KAGGLE'S R\n",
        "# ENVIRONMENT SO THERE MAY BE MISSING LIBRARIES USED BY YOUR\n",
        "# NOTEBOOK.\n",
        "\n",
        "DATA_SOURCE_MAPPING = 'fitbit:https%3A%2F%2Fstorage.googleapis.com%2Fkaggle-data-sets%2F1041311%2F7746251%2Fbundle%2Farchive.zip%3FX-Goog-Algorithm%3DGOOG4-RSA-SHA256%26X-Goog-Credential%3Dgcp-kaggle-com%2540kaggle-161607.iam.gserviceaccount.com%252F20250429%252Fauto%252Fstorage%252Fgoog4_request%26X-Goog-Date%3D20250429T150308Z%26X-Goog-Expires%3D259200%26X-Goog-SignedHeaders%3Dhost%26X-Goog-Signature%3D32eb86ba6a1475e7e0712294925ef8fad98112a078bf4c63914c4edcb46298efcbcf86c6ce456a3e12dd4864fbc89d16bf4b14722e87b3299ddf0e532dda48ec161b498b9373087453333ded9aaad474c0bba14d6aef6a6545cc2027869d8a9673a229debd112ecaded1fcd9d9b66c160c27715eb35576db184e5f1c67fd844337b9ec6163b718efee6a4a61d405832803bdcb2772f32b21cc17cbeec3f55f549e89c170a62c499599494f028298c9db8295a4389c1430db14ab8fcdf5fb7d036e9c655fe3ebf355034c65429a76f47763d1d499a8b609a880dc3d2682f212772787d63f3a4ffb33512fbc6878840dc4577c667c90ac158a81437eeca0cfad9c'\n",
        "\n",
        "KAGGLE_INPUT_PATH = '/kaggle/input'\n",
        "KAGGLE_WORKING_PATH = '/kaggle/working'\n",
        "\n",
        "system(paste0('sudo umount ', '/kaggle/input'))\n",
        "system(paste0('sudo rmdir ', '/kaggle/input'))\n",
        "system(paste0('sudo mkdir -p -- ', KAGGLE_INPUT_PATH), intern=TRUE)\n",
        "system(paste0('sudo chmod 777 ', KAGGLE_INPUT_PATH), intern=TRUE)\n",
        "system(\n",
        "  paste0('sudo ln -sfn ', KAGGLE_INPUT_PATH,' ',file.path('..', 'input')),\n",
        "  intern=TRUE)\n",
        "\n",
        "system(paste0('sudo mkdir -p -- ', KAGGLE_WORKING_PATH), intern=TRUE)\n",
        "system(paste0('sudo chmod 777 ', KAGGLE_WORKING_PATH), intern=TRUE)\n",
        "system(\n",
        "  paste0('sudo ln -sfn ', KAGGLE_WORKING_PATH, ' ', file.path('..', 'working')),\n",
        "  intern=TRUE)\n",
        "\n",
        "data_source_mappings = strsplit(DATA_SOURCE_MAPPING, ',')[[1]]\n",
        "for (data_source_mapping in data_source_mappings) {\n",
        "    path_and_url = strsplit(data_source_mapping, ':')\n",
        "    directory = path_and_url[[1]][1]\n",
        "    download_url = URLdecode(path_and_url[[1]][2])\n",
        "    filename = sub(\"\\\\?.+\", \"\", download_url)\n",
        "    destination_path = file.path(KAGGLE_INPUT_PATH, directory)\n",
        "    print(paste0('Downloading and uncompressing: ', directory))\n",
        "    if (endsWith(filename, '.zip')){\n",
        "      temp = tempfile(fileext = '.zip')\n",
        "      download.file(download_url, temp)\n",
        "      unzip(temp, overwrite = TRUE, exdir = destination_path)\n",
        "      unlink(temp)\n",
        "    }\n",
        "    else{\n",
        "      temp = tempfile(fileext = '.tar')\n",
        "      download.file(download_url, temp)\n",
        "      untar(temp, exdir = destination_path)\n",
        "      unlink(temp)\n",
        "    }\n",
        "    print(paste0('Downloaded and uncompressed: ', directory))\n",
        "}\n",
        "\n",
        "print(paste0('Data source import complete'))\n"
      ],
      "metadata": {
        "id": "aiqRfUwfEtDy"
      },
      "cell_type": "code",
      "outputs": [],
      "execution_count": null
    },
    {
      "cell_type": "markdown",
      "source": [
        "#### Note:\n",
        "This Bellabeat Capstone Project has been completed with the help of insights from Kaggle notebooks, Gen AI tools, Google Docs, and course materials. Special thanks to the Kaggle community and referenced works for their valuable contributions. While the project is complete, continuous improvements and refinements are always welcome."
      ],
      "metadata": {
        "id": "Kt8nxDWiEtD2"
      }
    },
    {
      "cell_type": "markdown",
      "source": [
        "## About Bellabeat\n",
        "\n",
        "Bellabeat, founded in 2013 by Urška Sršen and Sando Mur, is a wellness tech company creating smart devices that help women track their health, including activity, sleep, stress, and reproductive patterns. Known for its elegant designs and global reach, Bellabeat uses digital marketing and consumer data insights to drive growth and refine its strategies."
      ],
      "metadata": {
        "id": "TV6CQRm-EtD6"
      }
    },
    {
      "cell_type": "markdown",
      "source": [
        "### Business Task\n",
        "Analyze smart device usage data to uncover trends among non-Bellabeat users.\n",
        "Apply these insights to one Bellabeat product and suggest strategies to improve Bellabeat’s marketing efforts.\n",
        "\n",
        "### Key Questions\n",
        "1) What are some trends in smart device usage?\n",
        "\n",
        "2) How could these trends apply to Bellabeat customers?\n",
        "\n",
        "3) How could these trends help influence Bellabeat’s marketing strategy?"
      ],
      "metadata": {
        "id": "C5c3jF4EEtD6"
      }
    },
    {
      "cell_type": "markdown",
      "source": [
        "# Install and load relevant library's"
      ],
      "metadata": {
        "id": "j0H6_QlYEtD7"
      }
    },
    {
      "cell_type": "code",
      "source": [
        "library(tidyverse)\n",
        "library(lubridate)\n",
        "library(dplyr)  # Make sure you have dplyr loaded for n_distinct()\n",
        "library(ggplot2)\n",
        "library(tidyr)"
      ],
      "metadata": {
        "trusted": true,
        "execution": {
          "iopub.status.busy": "2025-04-28T09:55:23.829784Z",
          "iopub.execute_input": "2025-04-28T09:55:23.832015Z",
          "iopub.status.idle": "2025-04-28T09:55:24.896412Z",
          "shell.execute_reply": "2025-04-28T09:55:24.894867Z"
        },
        "id": "0NlHHkoHEtD7"
      },
      "outputs": [],
      "execution_count": null
    },
    {
      "cell_type": "markdown",
      "source": [
        "# Prepare Data\n",
        "Key tasks\n",
        " 1. Download data and store it appropriately.\n",
        " 2. Identify how it’s organized.\n",
        " 3. Sort and Filter the data.\n",
        " 4. Determine the credibility of the data."
      ],
      "metadata": {
        "id": "jCkXYw-uEtD8"
      }
    },
    {
      "cell_type": "markdown",
      "source": [
        "#####################\n",
        "## Load your CSV files Or Data (FITBIT)\n",
        "#####################\n",
        "\n",
        "\n"
      ],
      "metadata": {
        "id": "StZ4IR2OEtD8"
      }
    },
    {
      "cell_type": "markdown",
      "source": [
        "Create a dataframe named 'daily_activity' and read in one\n",
        "of the CSV files from the dataset. Remember, you can name your dataframe\n",
        "something different, and you can also save your CSV file under a different name as well."
      ],
      "metadata": {
        "id": "ZDDY-PJ6EtD9"
      }
    },
    {
      "cell_type": "code",
      "source": [
        "daily_activity <- read.csv(\"/kaggle/input/fitbit/mturkfitbit_export_4.12.16-5.12.16/Fitabase Data 4.12.16-5.12.16/dailyActivity_merged.csv\")\n",
        "\n",
        "# Create another dataframe for the sleep data repeat the same accordingly to your data.\n",
        "\n",
        "sleep_day <- read.csv(\"/kaggle/input/fitbit/mturkfitbit_export_4.12.16-5.12.16/Fitabase Data 4.12.16-5.12.16/sleepDay_merged.csv\")\n",
        "\n",
        "hourly_Calories <- read.csv(\"/kaggle/input/fitbit/mturkfitbit_export_4.12.16-5.12.16/Fitabase Data 4.12.16-5.12.16/hourlyCalories_merged.csv\")\n",
        "\n",
        "hourly_Intensities <- read.csv(\"/kaggle/input/fitbit/mturkfitbit_export_4.12.16-5.12.16/Fitabase Data 4.12.16-5.12.16/hourlyIntensities_merged.csv\")\n",
        "\n",
        " weight_loginfo <- read.csv(\"/kaggle/input/fitbit/mturkfitbit_export_4.12.16-5.12.16/Fitabase Data 4.12.16-5.12.16/weightLogInfo_merged.csv\")\n",
        "\n",
        "# weight_loginfo <- read.csv(\"weightLogInfo_merged.csv\") -> steps if importing in an offline env\n"
      ],
      "metadata": {
        "trusted": true,
        "execution": {
          "iopub.status.busy": "2025-04-28T09:55:24.900281Z",
          "iopub.execute_input": "2025-04-28T09:55:24.902226Z",
          "iopub.status.idle": "2025-04-28T09:55:25.16347Z",
          "shell.execute_reply": "2025-04-28T09:55:25.16172Z"
        },
        "id": "QHX-YQavEtD9"
      },
      "outputs": [],
      "execution_count": null
    },
    {
      "cell_type": "markdown",
      "source": [
        "#########################\n",
        "## Explore a few key tables ##\n",
        "#########################"
      ],
      "metadata": {
        "id": "wykKVLe-EtD9"
      }
    },
    {
      "cell_type": "code",
      "source": [
        "# Take a look at the daily_activity data.\n",
        "head(daily_activity)\n",
        "head(hourly_Calories)\n",
        "head(hourly_Intensities)\n",
        "head(weight_loginfo)\n",
        "# Take a look at the sleep_day data.\n",
        "head(sleep_day)"
      ],
      "metadata": {
        "trusted": true,
        "execution": {
          "iopub.status.busy": "2025-04-28T09:55:25.166079Z",
          "iopub.execute_input": "2025-04-28T09:55:25.167402Z",
          "iopub.status.idle": "2025-04-28T09:55:25.248224Z",
          "shell.execute_reply": "2025-04-28T09:55:25.246725Z"
        },
        "id": "KPdyTDBsEtD9"
      },
      "outputs": [],
      "execution_count": null
    },
    {
      "cell_type": "code",
      "source": [
        "# Identify all the columns in the daily_activity data.\n",
        "colnames(daily_activity)\n",
        "# Identify all the columns in the daily_activity data same can be done for other data too.\n",
        "colnames(sleep_day)"
      ],
      "metadata": {
        "trusted": true,
        "execution": {
          "iopub.status.busy": "2025-04-28T09:55:25.250545Z",
          "iopub.execute_input": "2025-04-28T09:55:25.251719Z",
          "iopub.status.idle": "2025-04-28T09:55:25.278355Z",
          "shell.execute_reply": "2025-04-28T09:55:25.27653Z"
        },
        "id": "82Z5lfekEtD9"
      },
      "outputs": [],
      "execution_count": null
    },
    {
      "cell_type": "markdown",
      "source": [
        "# Process\n",
        " Key tasks\n",
        " 1. Check the data for errors.\n",
        " 2. Choose your tools.\n",
        " 3. Transform the data so you can work with it effectively.\n",
        " 4. Document the cleaning process.\n"
      ],
      "metadata": {
        "id": "P8HUjKNMEtD-"
      }
    },
    {
      "cell_type": "markdown",
      "source": [
        "#  Fixing Date and Time formatting for all datasets"
      ],
      "metadata": {
        "id": "O7PcYgJ6EtD-"
      }
    },
    {
      "cell_type": "code",
      "source": [
        "# I spotted some problems with the timestamp data. So before analysis, I need to convert it to date time format and split to date and time.\n",
        "\n",
        "# 1. hourly_Intensities--\n",
        "\n",
        "hourly_Intensities$ActivityHour <- as.POSIXct(hourly_Intensities$ActivityHour, format=\"%m/%d/%Y %I:%M:%S %p\", tz=Sys.timezone())\n",
        "hourly_Intensities$time <- format(hourly_Intensities$ActivityHour, format=\"%H:%M:%S\")\n",
        "hourly_Intensities$date <- format(hourly_Intensities$ActivityHour, format=\"%m/%d/%y\")\n",
        "\n",
        "# 2. hourly_Calories--\n",
        "\n",
        "hourly_Calories$ActivityHour <- as.POSIXct(hourly_Calories$ActivityHour, format=\"%m/%d/%Y %I:%M:%S %p\", tz=Sys.timezone())\n",
        "hourly_Calories$time <- format(hourly_Calories$ActivityHour, format=\"%H:%M:%S\")\n",
        "hourly_Calories$date <- format(hourly_Calories$ActivityHour, format=\"%m/%d/%y\")\n",
        "\n",
        "# 3. daily_activity--\n",
        "\n",
        "daily_activity$ActivityDate <- as.POSIXct(daily_activity$ActivityDate, format=\"%m/%d/%Y\", tz=Sys.timezone())\n",
        "daily_activity$date <- format(daily_activity$ActivityDate, format=\"%m/%d/%y\")\n",
        "\n",
        "# 4. sleep_day--\n",
        "\n",
        "sleep_day$SleepDay <- as.POSIXct(sleep_day$SleepDay, format=\"%m/%d/%Y %I:%M:%S %p\", tz=Sys.timezone())\n",
        "sleep_day$date <- format(sleep_day$SleepDay, format=\"%m/%d/%y\")\n",
        "\n",
        "# 5. weight_loginfo--\n",
        "\n",
        "weight_loginfo$Date <- as.POSIXct(weight_loginfo$Date, format=\"%m/%d/%Y %I:%M:%S %p\", tz=Sys.timezone())\n",
        "weight_loginfo$time <- format(weight_loginfo$Date, format=\"%H:%M:%S\")\n",
        "weight_loginfo$date <- format(weight_loginfo$Date, format=\"%m/%d/%y\")\n",
        "\n",
        "# This code will:  Convert all your timestamp columns properly to POSIXct.\n",
        "# Creates separate date and time columns wherever needed.\n",
        "# Now The data is super clean for analysis, filtering, grouping, plotting, etc."
      ],
      "metadata": {
        "trusted": true,
        "execution": {
          "iopub.status.busy": "2025-04-28T09:55:25.282022Z",
          "iopub.execute_input": "2025-04-28T09:55:25.283209Z",
          "iopub.status.idle": "2025-04-28T09:55:25.408378Z",
          "shell.execute_reply": "2025-04-28T09:55:25.406763Z"
        },
        "id": "eV-EfbnyEtD-"
      },
      "outputs": [],
      "execution_count": null
    },
    {
      "cell_type": "markdown",
      "source": [
        "Note that all the datasets have the 'Id' field - this can be used to merge the datasets."
      ],
      "metadata": {
        "id": "hMCtdxyPEtD-"
      }
    },
    {
      "cell_type": "markdown",
      "source": [
        "# Analyze\n",
        "Key tasks\n",
        " 1. Aggregate your data so it’s useful and accessible.\n",
        " 2. Organize and format your data.\n",
        " 3. Peform calculations.\n",
        " 4. Identify trends and relationships."
      ],
      "metadata": {
        "id": "9RAaQribEtD-"
      }
    },
    {
      "cell_type": "markdown",
      "source": [
        "#####################################\n",
        "## Understanding some summary statistics\n",
        "#####################################"
      ],
      "metadata": {
        "id": "UgiD04R8EtD-"
      }
    },
    {
      "cell_type": "code",
      "source": [
        "# Counting distinct users (Id) in each dataset\n",
        "n_distinct(daily_activity$Id)\n",
        "n_distinct(sleep_day$Id)"
      ],
      "metadata": {
        "trusted": true,
        "execution": {
          "iopub.status.busy": "2025-04-28T09:55:25.412139Z",
          "iopub.execute_input": "2025-04-28T09:55:25.413544Z",
          "iopub.status.idle": "2025-04-28T09:55:25.433695Z",
          "shell.execute_reply": "2025-04-28T09:55:25.432278Z"
        },
        "id": "wUYr2ME7EtD-"
      },
      "outputs": [],
      "execution_count": null
    },
    {
      "cell_type": "code",
      "source": [
        "# If we want a quick table to see all the counts at once, we can do this:\n",
        "data.frame(\n",
        "  Dataset = c(\"Daily Activity\", \"Hourly Calories\", \"Hourly Intensities\", \"Sleep Day\", \"Weight Log Info\"),\n",
        "  Unique_Users = c(\n",
        "    n_distinct(daily_activity$Id),\n",
        "    n_distinct(hourly_Calories$Id),\n",
        "    n_distinct(hourly_Intensities$Id),\n",
        "    n_distinct(sleep_day$Id),\n",
        "    n_distinct(weight_loginfo$Id)\n",
        "  )\n",
        ")\n",
        "\n",
        "# How many unique participants are there in each dataframe?\n",
        "# 33 In Daily Activity, Hourly Calories & Hourly Intensities\n",
        "# 24 In Sleep Day & 8 In Weight Log Info which is not significant to make any recommendations or conclutions.\n",
        "# It looks like there may be more participants in the daily activity dataset than the sleep dataset.\n"
      ],
      "metadata": {
        "trusted": true,
        "execution": {
          "iopub.status.busy": "2025-04-28T09:55:25.436134Z",
          "iopub.execute_input": "2025-04-28T09:55:25.437365Z",
          "iopub.status.idle": "2025-04-28T09:55:25.458064Z",
          "shell.execute_reply": "2025-04-28T09:55:25.456623Z"
        },
        "id": "085-1iC-EtD-"
      },
      "outputs": [],
      "execution_count": null
    },
    {
      "cell_type": "markdown",
      "source": [
        "What are some quick summary statistics we'd want to know about each data frame?"
      ],
      "metadata": {
        "id": "xOg6_H-DEtD_"
      }
    },
    {
      "cell_type": "markdown",
      "source": [
        "# Summaries"
      ],
      "metadata": {
        "id": "4RoEeE0XEtD_"
      }
    },
    {
      "cell_type": "code",
      "source": [
        "# Daily Activity Summary\n",
        "cat(\"\\n--- Daily Activity: Steps, Distance, Sedentary Minutes, Calories ---\\n\")\n",
        "daily_activity %>%\n",
        "  select(TotalSteps, TotalDistance, SedentaryMinutes, Calories) %>%\n",
        "  summary()\n",
        "\n",
        "# Active Minutes Summary\n",
        "cat(\"\\n--- Daily Activity: Very/Fairly/Lightly Active Minutes ---\\n\")\n",
        "daily_activity %>%\n",
        "  select(VeryActiveMinutes, FairlyActiveMinutes, LightlyActiveMinutes) %>%\n",
        "  summary()\n",
        "\n",
        "# Hourly Calories Summary\n",
        "cat(\"\\n--- Hourly Calories ---\\n\")\n",
        "hourly_Calories %>%\n",
        "  select(Calories) %>%\n",
        "  summary()\n",
        "\n",
        "# Sleep Data Summary\n",
        "cat(\"\\n--- Sleep Day: Total Sleep Records, Minutes Asleep, Time in Bed ---\\n\")\n",
        "sleep_day %>%\n",
        "  select(TotalSleepRecords, TotalMinutesAsleep, TotalTimeInBed) %>%\n",
        "  summary()\n",
        "\n",
        "# Weight Log Info Summary\n",
        "cat(\"\\n--- Weight Log Info: Weight and BMI ---\\n\")\n",
        "weight_loginfo %>%\n",
        "  select(WeightKg, BMI) %>%\n",
        "  summary()"
      ],
      "metadata": {
        "trusted": true,
        "execution": {
          "iopub.status.busy": "2025-04-28T09:55:25.460422Z",
          "iopub.execute_input": "2025-04-28T09:55:25.461675Z",
          "iopub.status.idle": "2025-04-28T09:55:25.525557Z",
          "shell.execute_reply": "2025-04-28T09:55:25.524101Z"
        },
        "id": "L57cI2eFEtD_"
      },
      "outputs": [],
      "execution_count": null
    },
    {
      "cell_type": "markdown",
      "source": [
        "# Share\n",
        " Key tasks\n",
        " 1. Determine the best way to share your findings.\n",
        " 2. Create effective data visualizations.\n",
        " 3. Present your findings.\n",
        " 4. Ensure your work is accessible."
      ],
      "metadata": {
        "id": "fWBSTRQJEtD_"
      }
    },
    {
      "cell_type": "markdown",
      "source": [
        "# Sharing Some Findings"
      ],
      "metadata": {
        "id": "4vVgv7VOEtD_"
      }
    },
    {
      "cell_type": "code",
      "source": [
        "# 1. Daily Step Count:\n",
        "#    - The minimum step count is 0 steps (likely inactive days).\n",
        "#    - The maximum step count is 36,019 steps — showing some users are very active.\n",
        "#    - The median step count is 7,406, and the mean is 7,638, indicating typical daily steps are between 7,000 and 8,000.\n",
        "\n",
        "# 2. Total Distance Traveled:\n",
        "#    - Minimum distance is 0 km (on sedentary days).\n",
        "#    - The maximum distance is 28.03 km, highlighting long-distance days.\n",
        "#    - The median distance is 5.245 km, and the mean is 5.49 km, showing a typical walking distance of about 5 km daily.\n",
        "\n",
        "# 3. Sedentary Behavior:\n",
        "#    - Maximum sedentary minutes is 1,440 minutes (24 hours of sitting).\n",
        "#    - The median sedentary minutes is 1,057.5, meaning many users remain sedentary for over 17 hours a day.\n",
        "#    - The mean is 991.2 minutes, showing a trend of significant sedentary behavior.\n",
        "\n",
        "# 4. Daily Calories Burned:\n",
        "#    - Maximum calories burned is 4,900, likely due to intense physical activity.\n",
        "#    - The median calorie expenditure is 2,134, and the mean is 2,304, showing average daily expenditure is between 2,100-2,300 calories.\n",
        "\n",
        "# 5. Very Active Minutes:\n",
        "#    - The mean is 21.16 minutes, with a maximum of 210 minutes of intense activity on high-energy days.\n",
        "#    - The median is 4 minutes, indicating that intense activity is not very frequent for most users.\n",
        "\n",
        "# 6. Fairly Active Minutes:\n",
        "#    - The mean is 13.56 minutes, with a maximum of 143 minutes of moderate activity.\n",
        "#    - The median is 6 minutes, suggesting some users engage in moderate activity but not daily.\n",
        "\n",
        "# 7. Lightly Active Minutes:\n",
        "#    - The mean is 192.8 minutes, with a maximum of 518 minutes (entire day of light physical activity).\n",
        "#    - The median is 199 minutes, indicating most users engage in light activity (e.g., walking or household tasks) for about 3.5-4 hours a day.\n",
        "\n",
        "# 8. Sleep Duration:\n",
        "#    - The mean sleep time is 419.5 minutes (~7 hours), and the median is 433 minutes.\n",
        "#    - The maximum sleep duration is 796 minutes (about 13.2 hours), with some users sleeping significantly more than average.\n",
        "#    - The minimum is 58 minutes, indicating some outliers or incomplete sleep data.\n",
        "\n",
        "# 9. Weight and BMI Insights:\n",
        "#    - The mean weight is 72.04 kg, and the mean BMI is 25.19, indicating many users are in the overweight range (BMI > 25).\n",
        "#    - The maximum weight is 133.5 kg and maximum BMI is 47.54, showing that some users fall in the obese category.\n",
        "\n",
        "# 10. Variability Across Users:\n",
        "#    - There’s a high variability in activity levels: from users who are sedentary for almost the entire day to those who engage in intense physical activities.\n",
        "#    - Similarly, there’s variability in sleep patterns and weight/BMI, with significant differences across users in terms of daily calorie expenditure, steps, and sleep.\n",
        "\n"
      ],
      "metadata": {
        "trusted": true,
        "execution": {
          "iopub.status.busy": "2025-04-28T09:55:25.527988Z",
          "iopub.execute_input": "2025-04-28T09:55:25.529213Z",
          "iopub.status.idle": "2025-04-28T09:55:25.540074Z",
          "shell.execute_reply": "2025-04-28T09:55:25.538675Z"
        },
        "id": "yX-HEuxTEtD_"
      },
      "outputs": [],
      "execution_count": null
    },
    {
      "cell_type": "markdown",
      "source": [
        "#########################\n",
        "## Merging Data\n",
        "#########################"
      ],
      "metadata": {
        "id": "8_3_mjhcEtD_"
      }
    },
    {
      "cell_type": "code",
      "source": [
        "# Before visualizing the data, I need to merge some data sets.\n",
        "# I’m going to merge with (outer join) activity and sleep on columns Id and date\n",
        "# (that I previously created after converting Date to date time format)."
      ],
      "metadata": {
        "trusted": true,
        "execution": {
          "iopub.status.busy": "2025-04-28T09:55:25.542363Z",
          "iopub.execute_input": "2025-04-28T09:55:25.543585Z",
          "iopub.status.idle": "2025-04-28T09:55:25.557658Z",
          "shell.execute_reply": "2025-04-28T09:55:25.556296Z"
        },
        "id": "sg_x3hTcEtD_"
      },
      "outputs": [],
      "execution_count": null
    },
    {
      "cell_type": "code",
      "source": [
        "combined_data <- merge(sleep_day, daily_activity, by=c(\"Id\", \"date\"), all = TRUE)\n",
        "\n",
        "n_distinct(combined_data$Id)\n",
        "\n",
        "head(combined_data)"
      ],
      "metadata": {
        "trusted": true,
        "execution": {
          "iopub.status.busy": "2025-04-28T09:55:25.559977Z",
          "iopub.execute_input": "2025-04-28T09:55:25.561159Z",
          "iopub.status.idle": "2025-04-28T09:55:25.604044Z",
          "shell.execute_reply": "2025-04-28T09:55:25.602606Z"
        },
        "id": "k5fHkkUoEtD_"
      },
      "outputs": [],
      "execution_count": null
    },
    {
      "cell_type": "markdown",
      "source": [
        "#########################\n",
        "## Visualization\n",
        "#########################"
      ],
      "metadata": {
        "id": "C_SRiDD2EtD_"
      }
    },
    {
      "cell_type": "code",
      "source": [
        "# This Plot checks if activity levels (such as VeryActiveMinutes) influence the relationship between sleep and steps, you can color the points based on activity level\n",
        "\n",
        "ggplot(data = combined_data, aes(x = TotalMinutesAsleep, y = TotalSteps, color = VeryActiveMinutes)) +\n",
        "  geom_point() +\n",
        "  geom_smooth(method = \"lm\", color = \"red\") +\n",
        "  labs(title = \"Steps vs. Sleep: Activity Level Influencing the Relationship\",\n",
        "       x = \"Total Minutes Asleep\",\n",
        "       y = \"Total Steps\") +\n",
        "  theme_minimal() +\n",
        "  scale_color_gradient(low = \"blue\", high = \"red\")"
      ],
      "metadata": {
        "trusted": true,
        "execution": {
          "iopub.status.busy": "2025-04-28T09:55:25.606294Z",
          "iopub.execute_input": "2025-04-28T09:55:25.607545Z",
          "iopub.status.idle": "2025-04-28T09:55:27.352118Z",
          "shell.execute_reply": "2025-04-28T09:55:27.350437Z"
        },
        "id": "GpIbm9AqEtEA"
      },
      "outputs": [],
      "execution_count": null
    },
    {
      "cell_type": "markdown",
      "source": [
        "There's slight negative trend as total minutes asleep increases, total steps slightly decreases - although the relationship looks very weak"
      ],
      "metadata": {
        "id": "49Cls54JEtEA"
      }
    },
    {
      "cell_type": "code",
      "source": [
        "#Categorizing sleep duration\n",
        "combined_data$SleepCategory <- cut(combined_data$TotalMinutesAsleep,\n",
        "                                   breaks = c(0, 360, 480, Inf),\n",
        "                                   labels = c(\"<6 hours\", \"6-8 hours\", \">8 hours\"))\n",
        "\n",
        "# Plot the distribution of steps across sleep categories\n",
        "ggplot(data = combined_data, aes(x = SleepCategory, y = TotalSteps, fill = SleepCategory)) +\n",
        "  geom_boxplot() +\n",
        "  labs(title = \"Steps vs. Sleep Duration\",\n",
        "       x = \"Sleep Duration\",\n",
        "       y = \"Total Steps\") +\n",
        "  theme_minimal() +\n",
        "  scale_fill_brewer(palette = \"Set3\")"
      ],
      "metadata": {
        "trusted": true,
        "execution": {
          "iopub.status.busy": "2025-04-28T09:55:27.354682Z",
          "iopub.execute_input": "2025-04-28T09:55:27.356018Z",
          "iopub.status.idle": "2025-04-28T09:55:27.858921Z",
          "shell.execute_reply": "2025-04-28T09:55:27.857322Z"
        },
        "id": "bZCkPEJ8EtEA"
      },
      "outputs": [],
      "execution_count": null
    },
    {
      "cell_type": "markdown",
      "source": [
        "•Median steps seem slightly higher for the <6 hours group compared to 6-8 hours and >8 hours.\n",
        "\n",
        "•People sleeping less than 6 hours might be slightly more active (more steps) on average.\n",
        "\n",
        "•A lot of variability (spread) exists in all categories — no sleep group is extremely consistent.\n",
        "\n",
        "•We have quite a few outliers (dots above the whiskers) — people with very high step counts."
      ],
      "metadata": {
        "id": "CasfDStvEtEA"
      }
    },
    {
      "cell_type": "code",
      "source": [
        "# how sleep and activity data vary over time\n",
        "\n",
        "ggplot(data = combined_data, aes(x = TotalMinutesAsleep, y = TotalSteps)) +\n",
        "  geom_point(aes(color = TotalSteps)) +\n",
        "  geom_smooth(method = \"lm\", color = \"red\") +\n",
        "  labs(title = \"Steps vs. Sleep Over Time\",\n",
        "       x = \"Total Minutes Asleep\",\n",
        "       y = \"Total Steps\") +\n",
        "  theme_minimal() +\n",
        "  facet_wrap(~ date)"
      ],
      "metadata": {
        "trusted": true,
        "execution": {
          "iopub.status.busy": "2025-04-28T09:55:27.86141Z",
          "iopub.execute_input": "2025-04-28T09:55:27.862758Z",
          "iopub.status.idle": "2025-04-28T09:55:30.212211Z",
          "shell.execute_reply": "2025-04-28T09:55:30.210433Z"
        },
        "id": "kNFYYJ1eEtEA"
      },
      "outputs": [],
      "execution_count": null
    },
    {
      "cell_type": "markdown",
      "source": [
        "• About The Above Chart, the relationship varies daily — on some days the trend line is almost flat, while on others it slopes more steeply downward.\n",
        "\n",
        "• There are some days with wide variability in both sleep and step counts, suggesting fluctuations in daily habits.\n",
        "\n",
        "• Outliers (people with unusually high steps or sleep) are visible on several dates.\n",
        "\n",
        "• Some issues are present with the data (shown in warning messages), such as missing or invalid rows — likely why a few facets look strange at the bottom"
      ],
      "metadata": {
        "id": "-hHdGwuhEtEA"
      }
    },
    {
      "cell_type": "code",
      "source": [
        "# Total Steps vs. Calories\n",
        "\n",
        "ggplot(data=daily_activity, aes(x=TotalSteps, y=Calories)) +\n",
        "  geom_point() + geom_smooth() + labs(title=\"Total Steps vs. Calories\")\n"
      ],
      "metadata": {
        "trusted": true,
        "execution": {
          "iopub.status.busy": "2025-04-28T09:55:30.214747Z",
          "iopub.execute_input": "2025-04-28T09:55:30.216125Z",
          "iopub.status.idle": "2025-04-28T09:55:30.540395Z",
          "shell.execute_reply": "2025-04-28T09:55:30.538508Z"
        },
        "id": "D12iGc6DEtEA"
      },
      "outputs": [],
      "execution_count": null
    },
    {
      "cell_type": "markdown",
      "source": [
        "There is a strong positive correlation as in above chart:\n",
        "\n",
        "As Total Steps increase, the number of Calories burned generally increases.\n",
        "\n",
        "• The relationship is not perfectly linear:\n",
        "\n",
        "• At lower step counts, calories burned increase sharply with steps.\n",
        "\n",
        "• After around 20,000 steps, the curve flattens slightly, suggesting diminishing returns — calories still rise, but at a slower rate.\n",
        "\n",
        "• A few outliers exist at very high step counts (>30,000 steps), but they still follow the general trend."
      ],
      "metadata": {
        "id": "uBPuRdROEtEA"
      }
    },
    {
      "cell_type": "code",
      "source": [
        "# The relationship between Total Minutes Asleep and Total Time in Bed looks linear.\n",
        "# So if the Bellabeat users want to improve their sleep, we should consider using notification to go to sleep.\n",
        "\n",
        "ggplot(data=sleep_day, aes(x=TotalMinutesAsleep, y=TotalTimeInBed)) +\n",
        "  geom_point()+ labs(title=\"Total Minutes Asleep vs. Total Time in Bed\")"
      ],
      "metadata": {
        "trusted": true,
        "execution": {
          "iopub.status.busy": "2025-04-28T09:55:30.543261Z",
          "iopub.execute_input": "2025-04-28T09:55:30.544647Z",
          "iopub.status.idle": "2025-04-28T09:55:30.760444Z",
          "shell.execute_reply": "2025-04-28T09:55:30.758783Z"
        },
        "id": "Rw9_eACbEtEK"
      },
      "outputs": [],
      "execution_count": null
    },
    {
      "cell_type": "code",
      "source": [
        "# Let's look at hourly_intensities data over time (hourly).\n",
        "# Group by 'time', calculate mean total intensity, and remove NA values\n",
        "int_new <- hourly_Intensities %>%\n",
        "  group_by(time) %>%\n",
        "  drop_na() %>%\n",
        "  summarise(mean_total_int = mean(TotalIntensity, na.rm = TRUE))  # Ensure NA handling during summarization\n",
        "\n",
        "# Plot the average total intensity vs. time\n",
        "ggplot(data=int_new, aes(x=time, y=mean_total_int)) +\n",
        "  geom_histogram(stat = \"identity\", fill='darkgreen') +  # Use geom_bar() for categorical x-axis\n",
        "  theme(axis.text.x = element_text(angle = 90)) +  # Rotate x-axis text for better visibility\n",
        "  labs(title=\"Average Total Intensity vs. Time\")"
      ],
      "metadata": {
        "trusted": true,
        "execution": {
          "iopub.status.busy": "2025-04-28T09:55:30.770087Z",
          "iopub.execute_input": "2025-04-28T09:55:30.771391Z",
          "iopub.status.idle": "2025-04-28T09:55:31.018857Z",
          "shell.execute_reply": "2025-04-28T09:55:31.017261Z"
        },
        "id": "D9P4xo06EtEK"
      },
      "outputs": [],
      "execution_count": null
    },
    {
      "cell_type": "markdown",
      "source": [
        "In The Above Chart Lowest intensity is seen during early morning hours (00:00–05:00 AM), when people are mostly sleeping.\n",
        "\n",
        "• Activity intensity begins increasing sharply around 6:00 AM and continues rising through the morning.\n",
        "\n",
        "• Peak activity hours occur between 11:00 AM and 6:00 PM, with the highest intensity around 5:00 PM (17:00).\n",
        "\n",
        "• After 6:00 PM, the intensity gradually decreases as people start winding down for the day.\n",
        "\n",
        "• Late night (after 9:00 PM) activity intensity drops significantly again."
      ],
      "metadata": {
        "id": "bgYlFD_CEtEK"
      }
    },
    {
      "cell_type": "code",
      "source": [
        "# Let's look at the relationship between Total Minutes Asleep and Sedentry Minutes.\n",
        "\n",
        "ggplot(data=combined_data, aes(x=TotalMinutesAsleep, y=SedentaryMinutes)) +\n",
        "  geom_point(color='darkblue') + geom_smooth() +\n",
        "  labs(title=\"Minutes Asleep vs. Sedentary Minutes\")\n"
      ],
      "metadata": {
        "trusted": true,
        "execution": {
          "iopub.status.busy": "2025-04-28T09:55:31.021226Z",
          "iopub.execute_input": "2025-04-28T09:55:31.022623Z",
          "iopub.status.idle": "2025-04-28T09:55:31.328361Z",
          "shell.execute_reply": "2025-04-28T09:55:31.326638Z"
        },
        "id": "0_mAiYlVEtEK"
      },
      "outputs": [],
      "execution_count": null
    },
    {
      "cell_type": "markdown",
      "source": [
        "In The Above Chart - Negative correlation: As Total Minutes Asleep increases, Sedentary Minutes tend to decrease.\n",
        "\n",
        "• For people who sleep less (lower total minutes asleep), their sedentary time tends to be higher.\n",
        "\n",
        "• As sleep improves (around 400–500 minutes asleep, about 6.5–8 hours), sedentary minutes decline.\n",
        "\n",
        "• After around 500 minutes of sleep, the trend becomes flatter, suggesting that beyond a certain amount of sleep, further increases don’t significantly affect sedentary time.\n",
        "\n",
        "•There’s more variability (spread) for individuals with lower sleep duration."
      ],
      "metadata": {
        "id": "oGy7Dt5VEtEL"
      }
    },
    {
      "cell_type": "markdown",
      "source": [
        "# ACT"
      ],
      "metadata": {
        "id": "8fcPakEMEtEL"
      }
    },
    {
      "cell_type": "markdown",
      "source": [
        "Guiding questions\n",
        "\n",
        "● What is your final conclusion based on your analysis?\n",
        "\n",
        "● How could your team and business apply your insights?\n",
        "\n",
        "● What next steps would you or your stakeholders take based on your findings?\n",
        "\n",
        "● Is there additional data you could use to expand on your ndings?"
      ],
      "metadata": {
        "id": "RjLdh_ArEtEL"
      }
    },
    {
      "cell_type": "markdown",
      "source": [
        "Final Conclusion:\n",
        "\n",
        "Based on the analysis of daily steps, calories, sleep duration, sedentary minutes, and activity intensity:\n",
        "\n",
        "•\tThere is a positive correlation between Total Steps and Calories burned — higher physical activity clearly leads to greater energy expenditure.\n",
        "\n",
        "•\tSleep appears to affect daily activity: people sleeping less than 6 hours or more than 8 hours show lower step counts compared to those sleeping 6-8 hours.\n",
        "\n",
        "•\tThere is a negative relationship between Total Minutes Asleep and Sedentary Minutes: more sleep is linked with reduced sedentary behavior.\n",
        "\n",
        "•\tActivity intensity varies significantly throughout the day, with peak activity levels between 11:00 AM to 6:00 PM, suggesting that interventions to boost movement could be timed around these periods for maximum impact.\n",
        "\n",
        "How could the team/business apply these insights?\n",
        "\n",
        "•\tEncourage users to aim for 6–8 hours of sleep to maximize their daily physical activity.\n",
        "\n",
        "•\tDevelop personalized nudges or notifications around low-activity times (morning or evening) to boost movement.\n",
        "\n",
        "•\tHighlight the connection between sleep, movement, and calories burned in wellness programs to drive user engagement.\n",
        "\n",
        "•\tTailor fitness plans to optimize steps during peak active hours, leveraging natural daily energy cycles.\n",
        "\n",
        "Next Steps to Take Based on Findings:\n",
        "\n",
        "•\tDeep dive into anomalies: Investigate users with high sedentary time despite sufficient sleep.\n",
        "\n",
        "•\tSegment analysis: Group users based on sleep patterns and see if different types of interventions are needed.\n",
        "\n",
        "•\tTime-based interventions: Test targeted reminders during less active times to encourage movement.\n",
        "\n",
        "•\tFurther validation: Conduct a longitudinal study to see if improving sleep duration directly leads to increased activity levels over weeks or months.\n",
        "\n",
        "Additional Data to Expand Findings:\n",
        "\n",
        "•\tHeart rate data could help understand the intensity of physical activity more accurately.\n",
        "\n",
        "•\tActivity type logs (e.g., walking, running, sedentary work) could refine the understanding of steps and calorie burn.\n",
        "\n",
        "•\tDiet or nutrition data would allow linking calorie intake and energy expenditure more effectively.\n",
        "\n",
        "•\tUser demographics (age, gender, occupation) to see if patterns differ across different groups."
      ],
      "metadata": {
        "id": "5dk7E9SWEtEL"
      }
    }
  ]
}